{
 "cells": [
  {
   "cell_type": "markdown",
   "metadata": {},
   "source": [
    "# Computing a Competitive Equilibrium"
   ]
  },
  {
   "cell_type": "markdown",
   "metadata": {},
   "source": [
    "Competitive equilibria are extremely well studied by economists. Here some useful resources:\n",
    "- [one](https://web.stanford.edu/~jdlevin/Econ%20202/General%20Equilibrium.pdf)\n",
    "- [two](http://www.columbia.edu/~md3405/IM_CE.pdf)\n",
    "- [three](http://nicolalimodio.com/wp-content/uploads/2015/11/ec202d.pdf)\n",
    "- [four](http://timroughgarden.org/talks/tcsplus15.pdf)\n",
    "- [five](https://arxiv.org/pdf/1511.04032.pdf), [six](http://www.cs.tau.ac.il/~fiat/cgt12/walras.pdf)\n",
    "- [seven](http://darp.lse.ac.uk/presentations/MP2Book/OUP/ConsumerOptimisation.pdf)\n",
    "\n",
    "Our agents are assigned preferences and endowments at the start of the game."
   ]
  },
  {
   "cell_type": "markdown",
   "metadata": {},
   "source": [
    "Let:\n",
    "\n",
    "- $n$: number of agents.\n",
    "- $I := \\{1, \\dots, n\\}$\n",
    "- $m$: number of goods.\n",
    "- $G := \\{1, \\dots, m\\}$\n",
    "- $\\mathbf{e} = \\langle\\mathbf{e}^1, \\dots, \\mathbf{e}^n\\rangle$: list of good endowment vectors, one for each agent.\n",
    "- $\\mathbf{e}^i = \\langle e^i_1, \\dots, e^i_m\\rangle$: list of good endowments for agent $i$.\n",
    "- $\\mathbf{s} = \\langle \\mathbf{s}^1, \\dots, \\mathbf{s}^n \\rangle$: a list of utility function params vectors, one for each agent.\n",
    "- $\\mathbf{s}^i = \\langle s^i_1, \\dots, s^i_m \\rangle$: a list of utility function params, one for each good, for agent $i$.\n",
    "- $\\mathbf{x} = \\langle \\mathbf{x}^1, \\dots, \\mathbf{x}^n \\rangle$: a list of good holding vectors, one for each agent.\n",
    "- $\\mathbf{x}^i = \\langle x^i_1, \\dots, x^i_m \\rangle$: a list of good holdings, one for each good, for agent $i$.\n",
    "- $\\mathbf{p} = \\langle p_1, \\dots, p_m \\rangle$: a list of prices, one for each good.\n",
    "- $\\mathbf{c} = \\langle c^i, \\dots, c^n \\rangle$: list of money endowments, one for each agent.\n",
    "- $\\mathbf{f} = \\langle f^1, \\dots, f^n\\rangle$: list of money holdings, one for each agent.\n",
    "- $f^i, c^i, x^i_j, s^i_j, e^i_j$ are non-negative reals."
   ]
  },
  {
   "cell_type": "markdown",
   "metadata": {},
   "source": [
    "Option 1 (Good Part is Step Function): Utility of agent $i$ is defined as:\n",
    "\n",
    "$\n",
    "\\begin{equation}\n",
    "u(f^i, \\mathbf{x}^i; \\mathbf{s}^i) = f^i + \\sum_{j \\in G} \\mathbb{1}\\left(x^i_j > 0 \\right) s^i_j\n",
    "\\end{equation}\n",
    "$"
   ]
  },
  {
   "cell_type": "markdown",
   "metadata": {},
   "source": [
    "Option 2 (Good Part is Perfect Substitutes): Utility of agent $i$ is defined as:\n",
    "\n",
    "$\n",
    "\\begin{equation}\n",
    "u(f^i, \\mathbf{x}^i; \\mathbf{s}^i) = f^i + \\sum_{j \\in G} x^i_j s^i_j\n",
    "\\end{equation}\n",
    "$"
   ]
  },
  {
   "cell_type": "markdown",
   "metadata": {},
   "source": [
    "Option 3 (Good Part is Transformed Cobb-Douglas): Utility of agent $i$ is defined as:\n",
    "\n",
    "$\n",
    "\\begin{equation}\n",
    "u(f^i, \\mathbf{x}^i; \\mathbf{s}^i) = f^i + \\sum_{j \\in G} s^i_j \\ln \\left(x^i_j\\right) \n",
    "\\end{equation}\n",
    "$\n",
    "and \n",
    "$\n",
    "\\begin{equation}\n",
    "\\sum_{j \\in G} s^i_j = 1\n",
    "\\end{equation}\n",
    "$\n",
    "and\n",
    "$s^i_j > 0$"
   ]
  },
  {
   "cell_type": "markdown",
   "metadata": {},
   "source": [
    "For the agent optimization problem to have a unique solution the agent's utility needs to satisfy:\n",
    "- (A1) $u(\\cdot)$ is continuous in all its arguments\n",
    "- (A2) $u(\\cdot)$ is increasing, that is $u(f^i, \\tilde{\\mathbf{x}}^i; \\mathbf{s}^i) > u(f^i, \\mathbf{x}^i; \\mathbf{s}^i)$ whenever $u(f^i, \\tilde{\\mathbf{x}}^i; \\mathbf{s}^i) >> u(f^i, \\mathbf{x}^i; \\mathbf{s}^i)$.\n",
    "- (A3) $u(\\cdot)$ is concave\n",
    "\n",
    "For Option 1 these are not all satisfied, for option 2 & 3 they are all satisfied."
   ]
  },
  {
   "cell_type": "markdown",
   "metadata": {},
   "source": [
    "## Agent Optimization Problem"
   ]
  },
  {
   "cell_type": "markdown",
   "metadata": {},
   "source": [
    "An agent faces the following optimization problem (taking prices as given):\n",
    "\n",
    "$\n",
    "\\begin{equation}\n",
    "\\max_{f^i, \\mathbf{x}^i} u\\left(f^i, \\mathbf{x}^i; \\mathbf{s}^i\\right) \\text{s.t. } \\sum_{j \\in G} p_j x^i_j + f^i\\leq \\sum_{j \\in G} p_je^i_j + c^i\n",
    "\\end{equation}\n",
    "$"
   ]
  },
  {
   "cell_type": "markdown",
   "metadata": {},
   "source": [
    "The Lagrangian of this problem is:\n",
    "\n",
    "$\n",
    "\\begin{equation}\n",
    "L = u\\left(f^i, \\mathbf{x}^i; \\mathbf{s}^i\\right) + \\lambda \\left(\\sum_{j \\in G} p_j e^i_j + c^i - \\sum_{j \\in G} p_j x^i_j - f^i \\right)\n",
    "\\end{equation}\n",
    "$\n",
    "\n",
    "And the $m+2$ first order conditions are:\n",
    "\n",
    "$\n",
    "\\begin{equation}\n",
    "\\frac{\\delta u\\left(f^i, \\mathbf{x}^i; \\mathbf{s}^i\\right)}{\\delta x_j^i}- \\lambda p_j = 0 % s_j^i - \\lambda p_j = 0\n",
    "\\end{equation}\n",
    "$\n",
    "and\n",
    "$\n",
    "\\begin{equation}\n",
    "\\frac{\\delta u\\left(f^i, \\mathbf{x}^i; \\mathbf{s}^i\\right)}{\\delta f^i}- \\lambda = 0\n",
    "\\end{equation}\n",
    "$\n",
    "and\n",
    "$\n",
    "\\begin{equation}\n",
    "\\sum_{j \\in G} p_j e^i_j + c^i - \\sum_{j \\in G} p_j x^i_j - f^i = 0\n",
    "\\end{equation}\n",
    "$\n",
    "\n",
    "This then allows derivation of demand functions $x^{i,\\ast}_j(\\mathbf{p}, \\mathbf{e}^i, c^i)$ for $j \\in G$ and $f^{i,\\ast}(\\mathbf{p}, \\mathbf{e}^i, c^i)$."
   ]
  },
  {
   "cell_type": "markdown",
   "metadata": {},
   "source": [
    "## Competitive Equilibrium"
   ]
  },
  {
   "cell_type": "markdown",
   "metadata": {},
   "source": [
    "An equilibrium is a consumption bundle for each agent $\\mathbf{x}^1,\\dots,\\mathbf{x}^n$ and price $\\mathbf{p}$ such that\n",
    "\n",
    "- 1) feasibility: the allocation is feasible, that is $\\forall j \\in G$ we have $\\sum_{i \\in I} x_j^i = \\sum_{i \\in I} e_j^i$ and $\\sum_{i \\in I} f^i = \\sum_{i \\in I} c^i$.\n",
    "- 2) optimality: the consumption bundle solves the agent's optimization problem, given prices and initial endowments: $x_j^{i,\\ast}\\left(\\mathbf{p},\\mathbf{e}^i, c^i\\right) = x_j^i$ and $f^{i,\\ast}\\left(\\mathbf{p},\\mathbf{e}^i, c^i\\right) = f^i$."
   ]
  },
  {
   "cell_type": "markdown",
   "metadata": {},
   "source": [
    "There exists a simple algorithm to find the competitive equilibrium:\n",
    "\n",
    "- 1. solve the optimization problem for each consumer to get their excess demand as a function of prices and endowments:  $z_j^{i,\\ast}\\left(\\mathbf{p},\\mathbf{e}^i\\right) = x_j^{i,\\ast}\\left(\\mathbf{p},\\mathbf{e}^i, c^i\\right) - e_j^i$ for each $j \\in G$ and $z_f^{i,\\ast}\\left(\\mathbf{p},\\mathbf{e}^i, c^i\\right) = f^{i,\\ast}\\left(\\mathbf{p},\\mathbf{e}^i, c^i\\right) - c^i$\n",
    "- 2. find a price s.t. net demand for each good in economy is zero: $\\sum_{i \\in I} z_j^{i,\\ast}\\left(\\mathbf{p},\\mathbf{e}^i, c^i\\right) = 0$ for each $j \\in G$ and $\\sum_{i \\in I} z_f^{i,\\ast}\\left(\\mathbf{p},\\mathbf{e}^i, c^i\\right) = 0$"
   ]
  },
  {
   "cell_type": "markdown",
   "metadata": {},
   "source": [
    "Intuitively: the agent's sell their endowments $\\mathbf{e}^i$ at market prices $\\mathbf{p}$ and then buy the best bundle they can afford. Note, the price of money is explicitly set as $1$."
   ]
  },
  {
   "cell_type": "markdown",
   "metadata": {},
   "source": [
    "Properties of the competitive equilibrium (here with no money):\n",
    "\n",
    "- Existence: Consider an economy which satisfies $A1-A4$, then there exists a CE $\\left(\\mathbf{p},\\left(\\mathbf{x}^i\\right)_{i \\in I}\\right)$.\n",
    "- Uniqueness: The CE is not in general unique.\n",
    "- Stability (do reasonable dynamic adjustment processes converge to CE): Not in general.\n",
    "- First Welfare Theorem: Let $\\left(\\mathbf{p},\\left(\\mathbf{x}^i\\right)_{i \\in I}\\right)$ be a CE, then (given A2 holds) $\\left(\\mathbf{x}^i\\right)_{i \\in I}$ is Pareto optimal. This means, we cannot make any agent better off without making another agent worse off.\n",
    "- Second Welfare Theorem: Consider an economy which satisfies $A1-A4$. If $\\left(\\mathbf{x}^i\\right)_{i \\in I}$ is Pareto optimal then there exists a $\\mathbf{p}$ such that $\\left(\\mathbf{p},\\left(\\mathbf{x}^i\\right)_{i \\in I}\\right)$ is a CE. This means, we can achieve any Pareto optimal allocation with some price vector (potentially requiring redistribution of endowments).\n",
    "\n",
    "where\n",
    "- A4: $\\mathbf{e}^i >> 0$"
   ]
  },
  {
   "cell_type": "markdown",
   "metadata": {},
   "source": [
    "However, there exists a subclass of utility functions which satisfy the gross-substitues property and as a result guarantee a unique equilibrium.\n",
    "\n",
    "Option 3 falls into that class."
   ]
  },
  {
   "cell_type": "markdown",
   "metadata": {},
   "source": [
    "## Our Game (with money)"
   ]
  },
  {
   "cell_type": "markdown",
   "metadata": {},
   "source": [
    "We take Option 3 and we slightly adjust the utility function with a scalling factor $t$:\n",
    "$\n",
    "\\begin{equation}\n",
    "u(f^i, \\mathbf{x}^i, \\mathbf{s}^i) = f^i + \\sum_{j \\in G} t * s^i_j \\ln \\left(x^i_j\\right) \n",
    "\\end{equation}\n",
    "$"
   ]
  },
  {
   "cell_type": "markdown",
   "metadata": {},
   "source": [
    "Then it can be shown that the agent's demand functions are\n",
    "$\n",
    "\\begin{equation}\n",
    "x^{i,\\ast}_j(\\mathbf{p}, \\mathbf{e}^i) = \\frac{s_j^{i} * t}{p_j}\n",
    "\\end{equation}\n",
    "$\n",
    "for $j \\in G$ and \n",
    "$\n",
    "\\begin{equation}\n",
    "f^{i,\\ast}(\\mathbf{p}, \\mathbf{e}^i) = \\sum_{j \\in G} p_j e^i_j + c^i - t\n",
    "\\end{equation}\n",
    "$\n",
    "excess demand functions are\n",
    "$\n",
    "\\begin{equation}\n",
    "z^{i,\\ast}_j(\\mathbf{p}, \\mathbf{e}^i) = \\frac{s_j^{i} * t}{p_j} - e_j^i\n",
    "\\end{equation}\n",
    "$\n",
    "for $j \\in G$ and \n",
    "$\n",
    "\\begin{equation}\n",
    "z_f^{i,\\ast}(\\mathbf{p}, \\mathbf{e}^i) = \\sum_{j \\in G} p_j e^i_j - t\n",
    "\\end{equation}\n",
    "$"
   ]
  },
  {
   "cell_type": "markdown",
   "metadata": {},
   "source": [
    "And therefore\n",
    "$\n",
    "\\begin{equation}\n",
    "p_j = t\\frac{\\sum_{i \\in I} s^i_j}{\\sum_{i \\in I} e^i_j},\n",
    "\\end{equation}\n",
    "$\n",
    "and\n",
    "$\n",
    "\\begin{equation}\n",
    "x_j^i = \\frac{s^i_j \\sum_{i \\in I} e^i_j }{\\sum_{i \\in I} s^i_j},\n",
    "\\end{equation}\n",
    "$\n",
    "and\n",
    "$\n",
    "\\begin{equation}\n",
    "f^i = t\\sum_{j \\in G}\\frac{\\sum_{i \\in I} s^i_j}{\\sum_{i \\in I} e^i_j}e_j^i +c^i - t ,\n",
    "\\end{equation}\n",
    "$"
   ]
  },
  {
   "cell_type": "markdown",
   "metadata": {},
   "source": [
    "## Our Game (with money and shift param)"
   ]
  },
  {
   "cell_type": "markdown",
   "metadata": {},
   "source": [
    "We take Option 3 and we slightly adjust the utility function with a scalling factor $t$ and a shift param $\\alpha$:\n",
    "$\n",
    "\\begin{equation}\n",
    "u(f^i, \\mathbf{x}^i, \\mathbf{s}^i) = f^i + \\sum_{j \\in G} t * s^i_j \\ln \\left(x^i_j + \\alpha\\right) \n",
    "\\end{equation}\n",
    "$"
   ]
  },
  {
   "cell_type": "markdown",
   "metadata": {},
   "source": [
    "Then it can be shown that the agent's demand functions are\n",
    "$\n",
    "\\begin{equation}\n",
    "x^{i,\\ast}_j(\\mathbf{p}, \\mathbf{e}^i) = \\frac{s_j^{i} * t}{p_j} - \\alpha\n",
    "\\end{equation}\n",
    "$\n",
    "for $j \\in G$ and \n",
    "$\n",
    "\\begin{equation}\n",
    "f^{i,\\ast}(\\mathbf{p}, \\mathbf{e}^i) = \\sum_{j \\in G} p_j \\left(e^i_j + \\alpha \\right) + c^i - t\n",
    "\\end{equation}\n",
    "$\n",
    "excess demand functions are\n",
    "$\n",
    "\\begin{equation}\n",
    "z^{i,\\ast}_j(\\mathbf{p}, \\mathbf{e}^i) = \\frac{s_j^{i} * t}{p_j} - \\alpha -  e_j^i\n",
    "\\end{equation}\n",
    "$\n",
    "for $j \\in G$ and \n",
    "$\n",
    "\\begin{equation}\n",
    "z_f^{i,\\ast}(\\mathbf{p}, \\mathbf{e}^i) = \\sum_{j \\in G} p_j \\left(e^i_j + \\alpha \\right) - t\n",
    "\\end{equation}\n",
    "$"
   ]
  },
  {
   "cell_type": "markdown",
   "metadata": {},
   "source": [
    "And therefore\n",
    "$\n",
    "\\begin{equation}\n",
    "p_j = t\\frac{\\sum_{i \\in I} s^i_j}{n\\alpha + \\sum_{i \\in I} e^i_j},\n",
    "\\end{equation}\n",
    "$\n",
    "and\n",
    "$\n",
    "\\begin{equation}\n",
    "x_j^i = \\frac{s^i_j \\left(n\\alpha + \\sum_{i \\in I} e^i_j\\right) }{\\sum_{i \\in I} s^i_j} - \\alpha,\n",
    "\\end{equation}\n",
    "$\n",
    "and\n",
    "$\n",
    "\\begin{equation}\n",
    "f^i = t\\sum_{j \\in G}\\frac{\\sum_{i \\in I} s^i_j}{n\\alpha + \\sum_{i \\in I} e^i_j}\\left(e_j^i + \\alpha \\right) +c^i - t ,\n",
    "\\end{equation}\n",
    "$"
   ]
  },
  {
   "cell_type": "markdown",
   "metadata": {},
   "source": [
    "## Our Game (with no money)"
   ]
  },
  {
   "cell_type": "markdown",
   "metadata": {},
   "source": [
    "Set $f^i = m^i = 0$ for all $i \\in I$."
   ]
  },
  {
   "cell_type": "markdown",
   "metadata": {},
   "source": [
    "We take Option 3. Then it can be shown that the agent's demand functions are\n",
    "$\n",
    "\\begin{equation}\n",
    "x^{i,\\ast}_j(\\mathbf{p}, \\mathbf{e}^i) = \\frac{s_j^{i}}{p_j}\\sum_{k \\in G} p_k e^i_k\n",
    "\\end{equation}\n",
    "$\n",
    "for $j \\in G$ and \n",
    "excess demand functions are\n",
    "$\n",
    "\\begin{equation}\n",
    "z^{i,\\ast}_j(\\mathbf{p}, \\mathbf{e}^i) = \\frac{s_j^{i}}{p_j}\\sum_{k \\in G} p_k e^i_k - e_j^i\n",
    "\\end{equation}\n",
    "$"
   ]
  },
  {
   "cell_type": "markdown",
   "metadata": {},
   "source": [
    "We therefore have the zero net demand for $j$ condition given by:\n",
    "$\n",
    "\\begin{equation}\n",
    "\\sum_{i \\in I} \\frac{s_j^{i}}{p_j}\\sum_{k \\in G} p_k e^i_k - \\sum_{i \\in I} e_j^i = 0\n",
    "\\end{equation}\n",
    "$\n",
    "which is homogenous of degree zero. Hence, we can set $p_1 = 1 w.l.o.g$.\n",
    "Then for $j \\neq 1$ we have the following set of linear equations\n",
    "\n",
    "$\n",
    "\\begin{equation}\n",
    "p_j \\sum_{i \\in I}\\left(s_j^i - 1\\right)e_j^i + \\sum_{k \\in G \\backslash \\{j\\}} p_k \\sum_{i \\in I} s_j^ie_k^i = 0\n",
    "\\end{equation}\n",
    "$"
   ]
  },
  {
   "cell_type": "markdown",
   "metadata": {},
   "source": [
    "Hence, we have $m \\times m$ matrix\n",
    "\n",
    "$\n",
    "\\mathbf{A} = \n",
    "\\begin{bmatrix} \n",
    "\\sum_{i\\in I}\\left(s_1^i-1\\right)e_1^i & \\sum_{i \\in I}s_1^i e_2^i & ... & \\sum_{i \\in I}s_1^i e_m^i \\\\\n",
    "\\sum_{i \\in I}s_2^i e_1^i & \\sum_{i\\in I}\\left(s_2^i-1\\right)e_2^i & ... & \\sum_{i \\in I}s_2^i e_m^i \\\\\n",
    "... & ... & ... & ... \\\\\n",
    "\\sum_{i \\in I}s_m^i e_1^i & \\sum_{i \\in I}s_m^i e_2^i & ... & \\sum_{i\\in I}\\left(s_m^i-1\\right)e_m^i \\\\\n",
    "\\end{bmatrix} = \n",
    "\\begin{bmatrix} \n",
    "\\left(\\mathbf{s}_1-\\mathbf{1}\\right)^{T}\\mathbf{e}_1 & \\mathbf{s}_1^{T} \\mathbf{e}_2 & ... & \\mathbf{s}_1^{T} \\mathbf{e}_m \\\\\n",
    "\\mathbf{s}_2^{T} \\mathbf{e}_1 & \\left(\\mathbf{s}_2-\\mathbf{1}\\right)^{T}\\mathbf{e}_2 & ... & \\mathbf{s}_2^{T} \\mathbf{e}_m \\\\\n",
    "... & ... & ... & ... \\\\\n",
    "\\mathbf{s}_m^{T} \\mathbf{e}_1 & \\mathbf{s}_m^{T} \\mathbf{e}_2 & ... & \\left(\\mathbf{s}_m-\\mathbf{1}\\right)^{T}\\mathbf{e}_m \\\\\n",
    "\\end{bmatrix}\n",
    "$\n",
    "\n",
    "and $m \\times 1$ matrix/vector\n",
    "\n",
    "$\n",
    "\\mathbf{p} = \n",
    "\\begin{bmatrix} \n",
    "p_1 \\\\\n",
    "... \\\\\n",
    "p_m \\\\\n",
    "\\end{bmatrix}\n",
    "$\n",
    "\n",
    "and system\n",
    "\n",
    "$\n",
    "\\mathbf{A} \\mathbf{p} = \\mathbf{0}\n",
    "$\n",
    "\n",
    "where $\\mathbf{0}$ denotes an $m \\times 1$ vector of zeros."
   ]
  },
  {
   "cell_type": "markdown",
   "metadata": {},
   "source": [
    "So we have a homegenous system of linear equations. Importantly, if there is a solution to the system other than $\\mathbf{p} = \\mathbf{0}$, then there are inifinitely many such solutions. We can fix one by setting $p_1=1$ and solve."
   ]
  },
  {
   "cell_type": "markdown",
   "metadata": {},
   "source": [
    "## Python Implementation"
   ]
  },
  {
   "cell_type": "code",
   "execution_count": 1,
   "metadata": {},
   "outputs": [],
   "source": [
    "import pprint\n",
    "import random\n",
    "from typing import List\n",
    "import math\n",
    "import numpy as np\n",
    "\n",
    "\n",
    "nb_agents = 10\n",
    "nb_goods = 7\n",
    "initial_money_endowment = 200\n",
    "uniform_lower_bound_factor = 2\n",
    "uniform_upper_bound_factor = 10\n",
    "scaling_factor = 100.0\n",
    "shift = 1"
   ]
  },
  {
   "cell_type": "code",
   "execution_count": 2,
   "metadata": {},
   "outputs": [
    {
     "name": "stdout",
     "output_type": "stream",
     "text": [
      "Utility function params shape:  10 x 7\n",
      "Utility function params:  [[0.1421, 0.1448, 0.1727, 0.0418, 0.0724, 0.2786, 0.1476],\n",
      " [0.0833, 0.31, 0.1667, 0.2433, 0.03, 0.0633, 0.1034],\n",
      " [0.0364, 0.3318, 0.2227, 0.1773, 0.0727, 0.1182, 0.0409],\n",
      " [0.0854, 0.2313, 0.2349, 0.1246, 0.0961, 0.0498, 0.1779],\n",
      " [0.0446, 0.0891, 0.1866, 0.2423, 0.195, 0.1922, 0.0502],\n",
      " [0.047, 0.1436, 0.1123, 0.2376, 0.0392, 0.2637, 0.1566],\n",
      " [0.0148, 0.1852, 0.1333, 0.2481, 0.0778, 0.063, 0.2778],\n",
      " [0.1341, 0.1976, 0.1317, 0.0537, 0.0878, 0.2146, 0.1805],\n",
      " [0.0932, 0.1695, 0.1737, 0.0805, 0.1949, 0.1992, 0.089],\n",
      " [0.1919, 0.1967, 0.1919, 0.1493, 0.1374, 0.1185, 0.0143]]\n"
     ]
    }
   ],
   "source": [
    "def _sample_utility_function_params(nb_goods: int, nb_agents: int) -> List[List[float]]:\n",
    "    \"\"\"\n",
    "    Sample utility function params for each agent.\n",
    "    :param nb_goods: the number of goods\n",
    "    :param nb_agents: the number of agents\n",
    "    :return: a matrix with utility function params for each agent\n",
    "    \"\"\"\n",
    "    decimals = 4 if nb_goods < 100 else 8\n",
    "    utility_function_params = []\n",
    "    for i in range(nb_agents):\n",
    "        random_integers = [random.randint(1,101) for _ in range(nb_goods)]\n",
    "        total = sum(random_integers)\n",
    "        normalized_fractions = [ round(i / float(total), decimals) for i in random_integers]\n",
    "        if not sum(normalized_fractions) == 1.0:\n",
    "            normalized_fractions[-1] = round(1.0 - sum(normalized_fractions[0:-1]), decimals)\n",
    "        utility_function_params.append(normalized_fractions)\n",
    "    return utility_function_params\n",
    "\n",
    "def _test_sample_utility_function_params(utility_function_params: List[List[float]]) -> None:\n",
    "    decimals = 4 if len(utility_function_params[0]) < 100 else 8\n",
    "    for row in utility_function_params:\n",
    "        assert(round(sum(row), decimals) == 1.0)\n",
    "\n",
    "utility_function_params = _sample_utility_function_params(nb_goods, nb_agents)\n",
    "_test_sample_utility_function_params(utility_function_params)\n",
    "print(\"Utility function params shape: \", str(len(utility_function_params)) + ' x ' + str(len(utility_function_params[0])))\n",
    "print(\"Utility function params: \", pprint.pformat(utility_function_params))"
   ]
  },
  {
   "cell_type": "code",
   "execution_count": 3,
   "metadata": {},
   "outputs": [
    {
     "name": "stdout",
     "output_type": "stream",
     "text": [
      "Utility of first agent from random bundle:  1.6234039411451944, [2, 9, 10, 8, 2, 3, 2]\n"
     ]
    }
   ],
   "source": [
    "def utility(utility_function_params: List[float], good_bundle: List[int], shift: int) -> float:\n",
    "    \"\"\"\n",
    "    Compute agent's utility given her utilit function params and a good bundle.\n",
    "    :param utility_function_params: utility function params of the agent\n",
    "    :param good_bundle: a bundle of goods with the quantitity for each good\n",
    "    :param shift: the shift parameter\n",
    "    :return: utility value\n",
    "    \"\"\"\n",
    "    goodwise_utility = [param * math.log(quantity + shift) for param, quantity in zip(utility_function_params, good_bundle)]\n",
    "    return sum(goodwise_utility)\n",
    "\n",
    "random_bundle = [random.randint(1,10) for _ in range(nb_goods)]\n",
    "utility = utility(utility_function_params[0], random_bundle, shift)\n",
    "print(\"Utility of first agent from random bundle: \", str(utility) + ', ' + pprint.pformat(random_bundle)) "
   ]
  },
  {
   "cell_type": "code",
   "execution_count": 4,
   "metadata": {},
   "outputs": [
    {
     "name": "stdout",
     "output_type": "stream",
     "text": [
      "Endowments: \n",
      "[[ 7  2 10 11  6  7  2]\n",
      " [ 6  5  6 12  4 12  3]\n",
      " [ 9  6  7  8  3  7  3]\n",
      " [11  3 10  7  3  9  7]\n",
      " [11  3 15  9  7 12  6]\n",
      " [ 5  7  7 11  1  8  1]\n",
      " [ 7  2  4  8  8 12  2]\n",
      " [ 8  8 10 11  2  7  3]\n",
      " [ 6 10 11 12  3  8  2]\n",
      " [13  4  8 10  4  9  6]]\n"
     ]
    }
   ],
   "source": [
    "def _sample_good_instances(nb_agents: int, uniform_lower_bound_factor: int, uniform_upper_bound_factor: int) -> int:\n",
    "    \"\"\"\n",
    "    Sample the number of instances for a good.\n",
    "    :param nb_agents: the number of agents\n",
    "    :param uniform_lower_bound_factor: the lower bound factor of a uniform distribution\n",
    "    :param uniform_upper_bound_factor: the upper bound factor of a uniform distribution\n",
    "    :return: the number of instances I sampled.\n",
    "    \"\"\"\n",
    "    a = nb_agents + nb_agents * uniform_lower_bound_factor\n",
    "    b = nb_agents + nb_agents * uniform_upper_bound_factor\n",
    "    # Return random integer in range [a, b]\n",
    "    nb_instances = [round(np.random.uniform(a, b)) for _ in range(nb_goods)]\n",
    "    return nb_instances\n",
    "\n",
    "def _generate_endowments(nb_goods: int, nb_agents: int, uniform_lower_bound_factor: int, uniform_upper_bound_factor: int) -> List[List[int]]:\n",
    "    # sample good instances\n",
    "    instances_per_good = _sample_good_instances(nb_agents, uniform_lower_bound_factor, uniform_upper_bound_factor)\n",
    "    # each agent receives at least one good\n",
    "    endowments = [[1] * nb_goods for _ in range(nb_agents)]\n",
    "    # randomly assign additional goods to create differences\n",
    "    for good_id in range(nb_goods):\n",
    "        for _ in range(instances_per_good[good_id] - nb_agents):\n",
    "            agent_id = random.randint(0, nb_agents - 1)\n",
    "            endowments[agent_id][good_id] += 1\n",
    "    return endowments\n",
    "\n",
    "endowments = _generate_endowments(nb_goods, nb_agents, uniform_lower_bound_factor, uniform_upper_bound_factor)\n",
    "print(\"Endowments: \")\n",
    "print(np.asarray(endowments))"
   ]
  },
  {
   "cell_type": "markdown",
   "metadata": {},
   "source": [
    "### Money"
   ]
  },
  {
   "cell_type": "code",
   "execution_count": 5,
   "metadata": {},
   "outputs": [],
   "source": [
    "def _compute_competitive_equilibrium_money(endowments: List[List[int]], utility_function_params: List[List[float]], scaling_factor: float, initial_money_endowment: float, shift: int) -> (List[float], List[int]):\n",
    "    \"\"\"\n",
    "    Computes the competitive equilibrium prices and allocation, assuming money.\n",
    "    \"\"\"\n",
    "    endowments_a = np.array(endowments, dtype=np.int)\n",
    "    scaled_utility_function_params_a = np.array(utility_function_params, dtype=np.float) * scaling_factor\n",
    "    endowments_by_good = np.sum(endowments_a, axis=0)\n",
    "    scaled_params_by_good = np.sum(scaled_utility_function_params_a, axis=0)\n",
    "    eq_prices = np.divide(scaled_params_by_good, shift*len(endowments) + endowments_by_good)\n",
    "    eq_allocation = np.divide(scaled_utility_function_params_a, eq_prices) - shift\n",
    "    eq_money = np.transpose(np.dot(eq_prices, np.transpose(endowments_a + shift))) + initial_money_endowment - scaling_factor\n",
    "    return eq_prices, eq_allocation, eq_money\n",
    "    "
   ]
  },
  {
   "cell_type": "code",
   "execution_count": 6,
   "metadata": {},
   "outputs": [
    {
     "data": {
      "text/plain": [
       "array([0.93849462, 3.33266667, 1.76173469, 1.46651376, 1.9672549 ,\n",
       "       1.54564356, 2.75155556])"
      ]
     },
     "execution_count": 6,
     "metadata": {},
     "output_type": "execute_result"
    }
   ],
   "source": [
    "eq_prices, eq_allocation, eq_money = _compute_competitive_equilibrium_money(endowments,utility_function_params, scaling_factor, initial_money_endowment, shift)\n",
    "eq_prices"
   ]
  },
  {
   "cell_type": "code",
   "execution_count": 7,
   "metadata": {},
   "outputs": [
    {
     "data": {
      "text/plain": [
       "array([[14.14126948,  3.34486897,  8.80283811,  1.85029715,  2.68025516,\n",
       "        17.02485427,  4.36423841],\n",
       "       [ 7.87591659,  8.30186037,  8.4622647 , 15.59036597,  0.52496761,\n",
       "         3.09538146,  2.75787433],\n",
       "       [ 2.87855179,  8.9559912 , 11.6409499 , 11.08989678,  2.69550483,\n",
       "         6.64729998,  0.48643192],\n",
       "       [ 8.09967919,  5.94038808, 12.33344917,  7.49634032,  3.88497957,\n",
       "         2.22195888,  5.46543369],\n",
       "       [ 3.75229148,  1.67353471,  9.59183319, 15.52217704,  8.91228944,\n",
       "        11.43494971,  0.82442255],\n",
       "       [ 4.00802016,  3.30886177,  5.37439907, 15.20168908,  0.99262434,\n",
       "        16.06085453,  4.69132612],\n",
       "       [ 0.57699358,  4.55711142,  6.56640602, 15.91767282,  2.95474933,\n",
       "         3.07597207,  9.09610725],\n",
       "       [13.28884051,  4.92918584,  6.47558645,  2.66174539,  3.46307186,\n",
       "        12.88418423,  5.5599257 ],\n",
       "       [ 8.93079743,  4.0860172 ,  8.85960035,  4.48920863,  8.90720622,\n",
       "        11.8878355 ,  2.234534  ],\n",
       "       [19.44763978,  4.90218044,  9.89267304,  9.18060682,  5.98435164,\n",
       "         6.66670937, -0.48029398]])"
      ]
     },
     "execution_count": 7,
     "metadata": {},
     "output_type": "execute_result"
    }
   ],
   "source": [
    "eq_allocation"
   ]
  },
  {
   "cell_type": "code",
   "execution_count": 8,
   "metadata": {},
   "outputs": [
    {
     "data": {
      "text/plain": [
       "array([188.87380325, 198.89814719, 191.24650465, 201.04169357,\n",
       "       222.53778931, 187.33275676, 185.56658143, 204.69083383,\n",
       "       213.46876928, 206.34312073])"
      ]
     },
     "execution_count": 8,
     "metadata": {},
     "output_type": "execute_result"
    }
   ],
   "source": [
    "eq_money"
   ]
  },
  {
   "cell_type": "code",
   "execution_count": 9,
   "metadata": {},
   "outputs": [
    {
     "name": "stdout",
     "output_type": "stream",
     "text": [
      "[83 50 88 99 41 91 35]\n",
      "[83. 50. 88. 99. 41. 91. 35.]\n"
     ]
    }
   ],
   "source": [
    "def _test_compute_competitive_equilibrium_money(endowments: List[List[int]], utility_function_params: List[List[float]], scaling_factor: float, initial_money_endowment: float, shift: int) -> None:\n",
    "    \"\"\"\n",
    "    \"\"\"\n",
    "    endowments_by_good = np.sum(np.array(endowments, dtype=np.int), axis=0)\n",
    "    eq_prices, eq_allocation, eq_money = _compute_competitive_equilibrium_money(endowments,utility_function_params, scaling_factor, initial_money_endowment, shift)\n",
    "    eq_allocation_by_good = np.sum(eq_allocation, axis=0)\n",
    "    print(endowments_by_good)\n",
    "    print(eq_allocation_by_good)\n",
    "    assert(np.allclose(endowments_by_good, eq_allocation_by_good))\n",
    "    assert(np.allclose(len(endowments) * initial_money_endowment, np.sum(eq_money)))\n",
    "\n",
    "_test_compute_competitive_equilibrium_money(endowments, utility_function_params, scaling_factor, initial_money_endowment, shift)"
   ]
  },
  {
   "cell_type": "markdown",
   "metadata": {},
   "source": [
    "### No money"
   ]
  },
  {
   "cell_type": "code",
   "execution_count": 10,
   "metadata": {},
   "outputs": [
    {
     "name": "stdout",
     "output_type": "stream",
     "text": [
      "Equilibrium price vector:  [1.0,\n",
      " 3.678034340829961,\n",
      " 1.8488358628250527,\n",
      " 1.498334153356826,\n",
      " 2.4285842534879545,\n",
      " 1.6042611644048088,\n",
      " 3.161736002015897]\n",
      "Equilibrium allocation:  array([[11.57417412,  3.206629  ,  7.60834004,  2.27228884,  2.4281825 ,\n",
      "        14.1449682 ,  3.80239024],\n",
      "       [ 7.65642585,  7.74688294,  8.28740041, 14.92500582,  1.1354007 ,\n",
      "         3.62668402,  3.00591028],\n",
      "       [ 3.0575097 ,  7.57751948, 10.11785195,  9.93954528,  2.51447716,\n",
      "         6.18883446,  1.08658615],\n",
      "       [ 8.10164658,  5.96589048, 12.05313673,  7.88905142,  3.75392539,\n",
      "         2.94489419,  5.33784264],\n",
      "       [ 5.28390865,  2.8700031 , 11.9573165 , 19.15866207,  9.5126579 ,\n",
      "        14.19380241,  1.88104227],\n",
      "       [ 3.6939263 ,  3.0685205 ,  4.77388297, 12.46315873,  1.26859578,\n",
      "        12.91889678,  3.89275008],\n",
      "       [ 1.16537221,  3.96486262,  5.67720705, 13.03830171,  2.52248948,\n",
      "         3.09220601,  6.91846229],\n",
      "       [13.13730949,  5.26318716,  6.97854802,  3.51110049,  3.5417589 ,\n",
      "        13.10485743,  5.59279956],\n",
      "       [10.02280832,  4.95595592, 10.10357278,  5.77777618,  8.63042488,\n",
      "        13.35327449,  3.02717769],\n",
      "       [19.30691878,  5.3805488 , 10.44274355, 10.02510947,  5.69208731,\n",
      "         7.43158201,  0.4550388 ]])\n"
     ]
    }
   ],
   "source": [
    "def _construct_A(endowments: List[List[int]], utility_function_params: List[List[float]]) -> List[List[float]]:\n",
    "    nb_agents = len(endowments)\n",
    "    nb_goods = len(endowments[0])\n",
    "    endowments_a = np.array(endowments, dtype=np.int)\n",
    "    params_a = np.array(utility_function_params, dtype=np.float)\n",
    "    A = np.zeros((nb_goods, nb_goods), dtype=np.float)\n",
    "    for j in range(nb_goods):\n",
    "        for k in range(nb_goods):\n",
    "            if k == j:\n",
    "                adjusted = params_a[:,j] - np.ones(nb_agents, dtype=np.float)\n",
    "                val = np.inner(adjusted, endowments_a[:,k])\n",
    "            else:\n",
    "                val = np.inner(params_a[:,j], endowments_a[:,k])\n",
    "            A[j, k] = val\n",
    "    return A\n",
    "\n",
    "# def _null_space(A, eps=1e-15):\n",
    "#     u, s, vh = np.linalg.svd(A)\n",
    "#     null_space = np.compress(s <= eps, vh, axis=0)\n",
    "#     return null_space.T\n",
    "\n",
    "\n",
    "def _compute_competitive_equilibrium(endowments: List[List[int]], utility_function_params: List[List[float]]) -> (List[float], List[int]):\n",
    "    \"\"\"\n",
    "    Computes the competitive equilibrium prices and allocation, assuming no money.\n",
    "    \"\"\"\n",
    "    A = np.array(_construct_A(endowments, utility_function_params), dtype=np.float)\n",
    "    b = np.zeros(nb_goods, dtype=np.float)\n",
    "    # set first price to 1\n",
    "    b_new = - A[1:, 0]\n",
    "    A_new = np.delete(np.delete(A, 0, axis=1), 0, axis=0)\n",
    "    #     u, s, vh = np.linalg.svd(A)\n",
    "    #     p = np.dot(A, vh[-1])\n",
    "    p = np.linalg.solve(A_new, b_new)\n",
    "    #     det_A = np.linalg.det(A)\n",
    "    #     p = [0.0 for _ in range(len(endowments))]\n",
    "    #     for i in range(len(endowments)):\n",
    "    #         A_i = np.copy(A)\n",
    "    #         A_i[:, i] =  0\n",
    "    #         # apply Cramer's Rule\n",
    "    #         det_A_i = np.linalg.det(A_i)\n",
    "    #         p[i] = det_A_i / det_A\n",
    "    endowments_a = np.array(endowments, dtype=np.int)\n",
    "    params_a = np.array(utility_function_params, dtype=np.float)\n",
    "    eq_price = list(np.append(np.array(1, dtype=np.float),p))\n",
    "    eq_allocation = np.zeros((len(endowments), len(endowments[0])), dtype=np.float)\n",
    "    for i in range(len(endowments)):\n",
    "        for j in range(len(endowments[0])):\n",
    "            eq_allocation[i, j] = (params_a[i, j] / eq_price[j]) * np.inner(eq_price, endowments_a[i,:])\n",
    "    return eq_price, eq_allocation\n",
    "\n",
    "\n",
    "def _test_construct_A():\n",
    "    endowments = [[1, 3],[2, 1]]\n",
    "    utility_function_params = [[round(1/float(3), 4), round(2/float(3), 4)], [round(2/float(3), 4), round(1/float(3), 4)]]\n",
    "    return _construct_A(endowments, utility_function_params)\n",
    "    \n",
    "def _test_compute_competitive_equilibrium(endowments: int, utility_function_params: int, eps=1e-10) -> None:\n",
    "    #     endowments = [[1, 3],[2, 1]]\n",
    "    #     utility_function_params = [[round(1/float(3), 4), round(2/float(3), 4)], [round(2/float(3), 4), round(1/float(3), 4)]]\n",
    "    p, al = _compute_competitive_equilibrium(endowments,utility_function_params)\n",
    "    A = np.array(_construct_A(endowments, utility_function_params), dtype=np.float)\n",
    "    b = np.dot(A, p)\n",
    "    endowments_a = np.array(endowments, dtype=np.int)\n",
    "    # price must be a solution to the linear system of equations\n",
    "    assert(np.allclose(b, np.zeros(len(endowments[0]), dtype=np.float)))\n",
    "    # the final allocations must be feasible\n",
    "    assert(np.allclose(np.sum(al, axis=0), np.sum(endowments_a, axis=0)))\n",
    "    \n",
    "eq_price, eq_allocation = _compute_competitive_equilibrium(endowments,utility_function_params)\n",
    "\n",
    "print(\"Equilibrium price vector: \", pprint.pformat(eq_price))\n",
    "print(\"Equilibrium allocation: \", pprint.pformat(eq_allocation))\n",
    "_test_compute_competitive_equilibrium(endowments,utility_function_params)"
   ]
  },
  {
   "cell_type": "code",
   "execution_count": null,
   "metadata": {},
   "outputs": [],
   "source": []
  }
 ],
 "metadata": {
  "kernelspec": {
   "display_name": "Python 3",
   "language": "python",
   "name": "python3"
  },
  "language_info": {
   "codemirror_mode": {
    "name": "ipython",
    "version": 3
   },
   "file_extension": ".py",
   "mimetype": "text/x-python",
   "name": "python",
   "nbconvert_exporter": "python",
   "pygments_lexer": "ipython3",
   "version": "3.7.3"
  }
 },
 "nbformat": 4,
 "nbformat_minor": 2
}
