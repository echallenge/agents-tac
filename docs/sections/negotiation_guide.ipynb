{
 "cells": [
  {
   "cell_type": "markdown",
   "metadata": {
    "collapsed": true,
    "pycharm": {
     "name": "#%% md\n"
    }
   },
   "source": [
    "\n",
    "# Step-by-step agent negotiation\n",
    "\n",
    "\n",
    "In this section, you will see how the negotiation works in our framework.\n",
    "\n",
    "## The big picture\n",
    "\n",
    "\n",
    "The following diagram gives you a high-level understanding on how a generic negotiation works.\n",
    "\n",
    ".. mermaid:: ../diagrams/negotiation-guide/summary.mmd\n",
    "\n",
    "Let's see step by step what happens:\n",
    "\n",
    "1. `Agent_1` calls `get_service_description(is_supply)` to generate the service description. `is_supply` is a flag to\n",
    "    switch between the seller and buyer roles.\n",
    "2. `Agent_1` sends a `register_service` request to the OEF node, so she can be advertised on the OEF.\n",
    "3. Analogous to (1), but for `Agent_2`\n",
    "4. Analogous to (2), but for `Agent_2`\n",
    "5. `Agent_1` calls `build_services_query(is_searching_for_sellers)` to generate a `query` for the OEF\n",
    "6. `Agent_1` send a `search_service` request with the `query` previously generated.\n",
    "7. The OEF node returns a search result with the list of agent ids matching the `query`\n",
    "8. `Agent_1` finds `Agent_2`, so `Agent_1` sends a `CFP` to `Agent_2`, meaning that she wants to start a negotiation.\n",
    "9. `Agent_2` calls `get_proposals()` to generate a proposal for answering `Agent_1`\n",
    "10. `Agent_2` replies with a `Propose` message as an answer for the `CFP`.\n",
    "11. `Agent_1` sends an `Accept` message to `Agent_2`, meaning that she accepts the proposal.\n",
    "12. `Agent_1` sends a Transaction request to the `Controller`.\n",
    "13. `Agent_2` replies with a _matched accept_ to `Agent_1`, meaning that she confirms definitively the transaction. \n",
    "14. `Agent_2` sends a Transaction request to the `Controller` (analogous to step 12).\n",
    "\n",
    "\n",
    "## Analyzing the APIs\n",
    "\n",
    "In the following, we're going to describe the steps listed before, but more in detail, using code examples from the framework.\n",
    "\n",
    "### Instantiate an agent\n"
   ]
  },
  {
   "cell_type": "code",
   "execution_count": 3,
   "outputs": [],
   "source": [
    "from tac.agents.v1.examples.baseline import BaselineAgent\n",
    "from tac.agents.v1.examples.strategy import BaselineStrategy\n",
    "\n",
    "strategy = BaselineStrategy()\n",
    "agent = BaselineAgent(name=\"tac_agent\", oef_addr=\"127.0.0.1\", oef_port=10000, strategy=strategy)\n",
    "\n"
   ],
   "metadata": {
    "collapsed": false,
    "pycharm": {
     "name": "#%% \n",
     "is_executing": false
    }
   }
  },
  {
   "cell_type": "markdown",
   "source": [
    "\n",
    "\n",
    "### Registration\n",
    "\n",
    "This part covers the steps 1-4. That is, when the agents build their own description and register as a service to the OEF.\n",
    "This step allows the agents to be found via search queries, and hence increasing the probability to be found by other agents. \n",
    "\n",
    "\n",
    "#### The `get_service_description(is_supply)` method\n",
    "\n",
    "This method generates a `Description` object of the [Python OEF SDK](https://github.com/fetchai/oef-sdk-python.git) \n",
    "(check the documentation [here](http://oef-sdk-docs.fetch.ai/oef.html#oef.schema.Description)).\n",
    "It is basically a data structure that holds a dictionary objects, mapping from attribute names (strings) to some values.\n",
    "Moreover, it might refer to a [DataModel](http://oef-sdk-docs.fetch.ai/oef.html#oef.schema.DataModel) object, which defines\n",
    "the abstract structure that a `Description` object should have. You can think of them in terms of the relational database\n",
    "domain: a `DataModel` object corresponds to an SQL Table, whereas a `Description` object correspond to a row of that table.  \n",
    "\n",
    "In the context of TAC, the `Description` for service registration looks like the following:\n"
   ],
   "metadata": {
    "collapsed": false,
    "pycharm": {
     "name": "#%% md\n"
    }
   }
  },
  {
   "cell_type": "code",
   "execution_count": 7,
   "outputs": [],
   "source": [
    "from oef.schema import Description\n",
    "\n",
    "\n",
    "description = Description({\n",
    "    'tac_good_0_pbk': 1, \n",
    "    'tac_good_1_pbk': 1, \n",
    "    'tac_good_2_pbk': 1, \n",
    "    'tac_good_3_pbk': 1, \n",
    "    'tac_good_4_pbk': 1, \n",
    "    'tac_good_5_pbk': 1, \n",
    "    'tac_good_6_pbk': 1, \n",
    "    'tac_good_7_pbk': 1, \n",
    "    'tac_good_8_pbk': 1, \n",
    "    'tac_good_9_pbk': 1\n",
    "}, data_model=None)\n"
   ],
   "metadata": {
    "collapsed": false,
    "pycharm": {
     "name": "#%% \n",
     "is_executing": false
    }
   }
  },
  {
   "cell_type": "markdown",
   "source": [
    "\n",
    "The attribute names `tac_good_X_pbk` is the name given to each tradable good.  \n",
    "\n",
    "The argument `data_model` is set to `None`, but in the framework is properly set.\n",
    "\n",
    "Notice that the keys are automatically generated, depending on the number of goods in the game.  \n"
   ],
   "metadata": {
    "collapsed": false,
    "pycharm": {
     "name": "#%% md\n"
    }
   }
  }
 ],
 "metadata": {
  "kernelspec": {
   "display_name": "Python 3",
   "language": "python",
   "name": "python3"
  },
  "language_info": {
   "codemirror_mode": {
    "name": "ipython",
    "version": 3
   },
   "file_extension": ".py",
   "mimetype": "text/x-python",
   "name": "python",
   "nbconvert_exporter": "python",
   "pygments_lexer": "ipython3",
   "version": "3.7.2"
  },
  "pycharm": {
   "stem_cell": {
    "cell_type": "raw",
    "source": [],
    "metadata": {
     "collapsed": false
    }
   }
  }
 },
 "nbformat": 4,
 "nbformat_minor": 1
}